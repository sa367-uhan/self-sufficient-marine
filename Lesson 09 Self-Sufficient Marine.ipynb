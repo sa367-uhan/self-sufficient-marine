{
 "cells": [
  {
   "cell_type": "markdown",
   "id": "d9093cde-d4b0-47ca-b5d0-0ffb07ac91bb",
   "metadata": {
    "hide_cell": true
   },
   "source": [
    "**SA367 &#x25aa; Mathematical Models for Decision Making &#x25aa; Spring 2022 &#x25aa; Uhan**"
   ]
  },
  {
   "cell_type": "markdown",
   "id": "1efec023-a76c-419b-8b75-06ee2f67cad0",
   "metadata": {
    "hide_cell": true
   },
   "source": [
    "# Lesson 9. The Self-Sufficient Marine "
   ]
  },
  {
   "cell_type": "markdown",
   "id": "d3d4915d-ac7c-46ab-92fa-96bd52974200",
   "metadata": {},
   "source": [
    "## The problem"
   ]
  },
  {
   "cell_type": "markdown",
   "id": "e303eb41-19e6-4d8b-9454-485bdd93a8ca",
   "metadata": {},
   "source": [
    "__Self-sufficiency__ is the ability to carry out a mission without external support or aid, which is critical for operations in environments with limited infrastructure and logistical support.\n",
    "Such scenarios are common in expeditionary missions for the Marines.\n",
    "Perhaps the most fundamental question of self-sufficiency for these missions is whether a squad can be successful with the items that the Marines are able to carry.\n",
    "\n",
    "Suppose you have a list of the items that a Marine may carry for a particular mission. \n",
    "In addition, suppose you have for each item:\n",
    "\n",
    "- the __weight__ of the item, in units of 0.1 lbs\n",
    "\n",
    "- the __value__ of carrying one unit of the item for the mission, on a scale from 0 to 10\n",
    "\n",
    "- __lower and upper bounds__ on how many of the item needs to be carried\n",
    "\n",
    "- whether the item is __partially shared__: that is, if the item can be shared among a few Marines if needed (e.g. binoculars) \n",
    "\n",
    "- whether the item is __shared__: that is, if an item should be used by an entire squad (e.g. metal detector)\n",
    "\n",
    "Assume that a Marine can carry 65 lbs, at most 2 *types* of partially shared items, and 0 shared items.\n",
    "The objective is to determine how many of each item a Marine should carry in order to maximize the total value of the items.\n",
    "\n",
    "Formulate this problem as a dynamic program by giving its shortest/longest path representation."
   ]
  },
  {
   "cell_type": "markdown",
   "id": "f4374e52-4999-431d-9f5c-9cc28c1c0c74",
   "metadata": {},
   "source": [
    "*Note.* This problem is a simpler variant of the one studied in this paper:\n",
    "\n",
    "> J. Simon, A. Apte, E. Reginier. An application of the multiple knapsack problem: the self-sufficient marine. *European Journal of Operational Research* 256: 868-876 (2017)."
   ]
  },
  {
   "cell_type": "markdown",
   "id": "bff6f531-9cae-4956-a527-64871b546beb",
   "metadata": {},
   "source": [
    "## Setting up the data"
   ]
  },
  {
   "cell_type": "markdown",
   "id": "38d21d48-dc3c-47da-a22e-008b685134e0",
   "metadata": {},
   "source": [
    "- In the same folder as this notebook, there is a CSV file named `hot-SOP.csv`, that contains the data described above\n",
    "    - This data is a modified version of the data used in the paper by Simon, Apte, and Reginier (2017) cited above\n",
    "    - The items are based on the Standard Operating Procedures policy for hot climate training for hiking 20 kilometers\n",
    "    - The value assigned to each item was determined by analyzing the preferences of many individual Marines\n",
    "\n",
    "\n",
    "- Let's take a look using Pandas\n",
    "\n",
    "\n",
    "- First, let's import Pandas:"
   ]
  },
  {
   "cell_type": "code",
   "execution_count": null,
   "id": "7ad9cb1e-6800-4314-a802-ff19ac1c2f31",
   "metadata": {},
   "outputs": [],
   "source": [
    "import pandas as pd"
   ]
  },
  {
   "cell_type": "markdown",
   "id": "c00c5fcd-026a-43c6-99a5-333a851c1c81",
   "metadata": {},
   "source": [
    "- Now we can read the CSV file into a Pandas DataFrame:"
   ]
  },
  {
   "cell_type": "code",
   "execution_count": null,
   "id": "633bf1f5-f57f-454d-9a05-7e3493562e3a",
   "metadata": {},
   "outputs": [],
   "source": [
    "df = pd.read_csv('hot-SOP.csv')"
   ]
  },
  {
   "cell_type": "markdown",
   "id": "0ba902e5-3aed-475e-b5dd-aa9e12b2ea28",
   "metadata": {},
   "source": [
    "- Let's peek at the first 5 rows of the DataFrame:"
   ]
  },
  {
   "cell_type": "code",
   "execution_count": null,
   "id": "0a19aca4-1007-40d8-83d2-be8548acdb80",
   "metadata": {},
   "outputs": [],
   "source": []
  },
  {
   "cell_type": "markdown",
   "id": "5ee0fcb6-1b23-405e-a445-370680fa6563",
   "metadata": {},
   "source": [
    "- We see that whether an item is shared or not is indicated by a 1 or 0\n",
    "    - Same thing goes for whether an item is partially shared or not\n",
    "\n",
    "\n",
    "- We'll use the __index__ to refer to the different items:\n",
    "    - e.g., item 2 is the BAT and HIIDE System\n",
    "\n",
    "\n",
    "- Recall that we can convert DataFrame columns to dictionaries using `.to_dict()` \n",
    "\n",
    "- Let's create some dictionaries that will help us access the different pieces of information about each item: "
   ]
  },
  {
   "cell_type": "code",
   "execution_count": null,
   "id": "e23f9c78-4dc2-401a-89f4-479fd318e6dc",
   "metadata": {},
   "outputs": [],
   "source": [
    "item = df['Item'].to_dict()\n",
    "weight = df['Weight'].to_dict()\n",
    "value = df['Value'].to_dict()\n",
    "lower = df['Lower'].to_dict()\n",
    "upper = df['Upper'].to_dict()\n",
    "shared = df['Shared'].to_dict()\n",
    "partial_shared = df['PartialShared'].to_dict()"
   ]
  },
  {
   "cell_type": "markdown",
   "id": "adbc72fc-f7d3-4838-aeaa-72a8a918f814",
   "metadata": {},
   "source": [
    "- If this worked correctly, we should be able to get the weight and value of the BAT and HIIDE System as follows:"
   ]
  },
  {
   "cell_type": "code",
   "execution_count": null,
   "id": "16cf61a3-6e9c-4d28-a58a-ba6cc17a4396",
   "metadata": {},
   "outputs": [],
   "source": []
  },
  {
   "cell_type": "markdown",
   "id": "ae7ec346-2839-4c88-b675-ff54141578e8",
   "metadata": {},
   "source": [
    "## Solving the DP"
   ]
  },
  {
   "cell_type": "markdown",
   "id": "72c568a9-7d43-46c8-85bd-181b3f630d9b",
   "metadata": {},
   "source": [
    "- There are three important constants in our problem: the number of items, the weight capacity, and the number of partially shared items allowed \n",
    "\n",
    "- Let's create variables to hold these constants\n",
    "\n",
    "- This way, we can easily adapt our code to accommodate similar DPs"
   ]
  },
  {
   "cell_type": "code",
   "execution_count": null,
   "id": "36d6d906-25b2-4c54-8eb8-f9a387e069cd",
   "metadata": {},
   "outputs": [],
   "source": []
  },
  {
   "cell_type": "markdown",
   "id": "b64efef0-2fda-419d-8943-cc18a5fe0b0c",
   "metadata": {},
   "source": [
    "- Next, let's import `networkx` and `bellmanford`:"
   ]
  },
  {
   "cell_type": "code",
   "execution_count": null,
   "id": "02acb976-e18d-44a7-ae1d-7a5229fd68f0",
   "metadata": {},
   "outputs": [],
   "source": [
    "import networkx as nx\n",
    "import bellmanford as bf"
   ]
  },
  {
   "cell_type": "markdown",
   "id": "19da0d8e-c1ef-48e1-b55c-3264f81ed057",
   "metadata": {},
   "source": [
    "- As usual, we start with an empty digraph:"
   ]
  },
  {
   "cell_type": "code",
   "execution_count": null,
   "id": "51b08116-4826-4fa7-bf1a-5fc3d3fb118f",
   "metadata": {},
   "outputs": [],
   "source": []
  },
  {
   "cell_type": "markdown",
   "id": "671ba3ef-e0ac-4f2a-b626-d53e4b6a29c1",
   "metadata": {},
   "source": [
    "- Next, let's add the stage-state nodes:"
   ]
  },
  {
   "cell_type": "code",
   "execution_count": null,
   "id": "f07a82db-cd34-4e71-9f9c-db8bce6104b2",
   "metadata": {},
   "outputs": [],
   "source": []
  },
  {
   "cell_type": "markdown",
   "id": "acd40375-30b8-4ce6-ad4f-5443412a3c3f",
   "metadata": {},
   "source": [
    "- We can't forget the \"end\" node!"
   ]
  },
  {
   "cell_type": "code",
   "execution_count": null,
   "id": "794d1acb-2ff1-47f0-8768-acd104d9ae53",
   "metadata": {},
   "outputs": [],
   "source": []
  },
  {
   "cell_type": "markdown",
   "id": "c4eabe54-212b-45b6-b985-bde51fe587c4",
   "metadata": {},
   "source": [
    "- Quick check: how many nodes do we have in our graph?"
   ]
  },
  {
   "cell_type": "code",
   "execution_count": null,
   "id": "9878dae0-1c98-4fe0-9b75-8782ca372e42",
   "metadata": {},
   "outputs": [],
   "source": []
  },
  {
   "cell_type": "markdown",
   "id": "9b5ff30b-e838-40c2-96e5-9d86e332e0f7",
   "metadata": {},
   "source": [
    "- Now it's time to add the edges\n",
    "\n",
    "- Let's start with the edges corresponding to the decision of how many of each item to carry:"
   ]
  },
  {
   "cell_type": "code",
   "execution_count": null,
   "id": "ab163141-e3c8-45b4-b5e3-49a879a73c77",
   "metadata": {},
   "outputs": [],
   "source": [
    "# Add edges corresponding to how many of item t to carry\n",
    "            \n",
    "            # If item t is shared, don't consider it\n",
    "            \n",
    "            # Otherwise...\n",
    "            \n",
    "                # Let x be the number of item t to carry\n",
    "                # x must be between the lower and upper bounds for item t\n",
    "                    \n",
    "                    # Weight capacity becomes... \n",
    "                    \n",
    "                    # Partially shared item capacity becomes...\n",
    "                    # Recall that we only care about the number of partially shared item *types* \n",
    "                    \n",
    "                    # Add edge only if there's enough capacity\n",
    "                    \n",
    "                    # Don't forget we're maximizing the total value of the items carried!"
   ]
  },
  {
   "cell_type": "markdown",
   "id": "403a297c-a89b-42d5-a789-28af28cb794e",
   "metadata": {},
   "source": [
    "- Now we can add the edges from the last stage to the end node"
   ]
  },
  {
   "cell_type": "code",
   "execution_count": null,
   "id": "8bd11f49-393a-4cc8-86fd-2f890a858a12",
   "metadata": {},
   "outputs": [],
   "source": []
  },
  {
   "cell_type": "markdown",
   "id": "db4bc486-0bfc-4f9e-946f-8e4c6725f3a5",
   "metadata": {},
   "source": [
    "- Quick check: how many edges do we have in our graph?"
   ]
  },
  {
   "cell_type": "code",
   "execution_count": null,
   "id": "ca5fa520-6ed0-46dc-91c2-5c5cc295c17a",
   "metadata": {},
   "outputs": [],
   "source": []
  },
  {
   "cell_type": "markdown",
   "id": "c0ddc774-bd30-4795-9813-882a689a03b1",
   "metadata": {},
   "source": [
    "- Finally, let's solve the shortest path problem we've constructed using the Bellman-Ford algorithm:"
   ]
  },
  {
   "cell_type": "code",
   "execution_count": null,
   "id": "72299f94-6650-4d24-85bc-4f8e516bd9e8",
   "metadata": {},
   "outputs": [],
   "source": [
    "length, nodes, negative_cycle = bf.bellman_ford(G, source=(0, N1, N2), target='end', weight='length')\n",
    "\n",
    "print(f'Negative cycle? {negative_cycle}')\n",
    "print(f'Shortest path length: {length}')\n",
    "print(f'Shortest path: {nodes}')"
   ]
  },
  {
   "cell_type": "markdown",
   "id": "148232c1-51be-4374-88b0-c986b47bfb22",
   "metadata": {},
   "source": [
    "- It's easy to see what the maximum total value of the items carried is... \n",
    "\n",
    "- However, how many of each item should we carry to get this maximum total value?\n",
    "\n",
    "- Instead of reading through the path of 50-ish nodes to figure out how many of each item to carry, let's write some code to do this for us\n",
    "\n",
    "- The $t$th node in the shortest path corresponds to stage/item $t$\n",
    "\n",
    "- We can compute how many of item $t$ to carry as follows:\n",
    "\n",
    "$$\n",
    "\\frac{(n_1 \\mbox{ from stage } t) - (n_1 \\mbox{ from stage } t + 1)}{\\mbox{weight of item }  t} \n",
    "$$\n",
    "\n",
    "- So..."
   ]
  },
  {
   "cell_type": "code",
   "execution_count": null,
   "id": "ddc4562b-5f26-4d04-bfbd-70835cce1fc8",
   "metadata": {},
   "outputs": [],
   "source": [
    "# Go through each stage in the shortest path:\n",
    "    \n",
    "    # Node from stage t\n",
    "    \n",
    "    # Node from stage t + 1\n",
    "    \n",
    "    # Compute number of item t to carry\n",
    "    \n",
    "    # Print information"
   ]
  },
  {
   "cell_type": "markdown",
   "id": "88ef8e2d-7ee3-4494-9369-54bf1e46998d",
   "metadata": {},
   "source": [
    "## Incorporating shared items"
   ]
  },
  {
   "cell_type": "markdown",
   "id": "2ef0396c-b193-4dfb-8994-d97334a9ade1",
   "metadata": {},
   "source": [
    "- We ignored the possibility of carrying shared items in our model so far\n",
    "\n",
    "\n",
    "- Suppose we can carry at most 2 types of partially shared items and at most 1 type of shared item\n",
    "\n",
    "\n",
    "- How can we modify our dynamic program to accommodate this? Write a new dynamic program on paper"
   ]
  },
  {
   "cell_type": "markdown",
   "id": "aa63643f-e6ff-4efd-9a1f-88a039951664",
   "metadata": {},
   "source": [
    "- Once you've figured out how you need to change our dynamic program, how can you modify the code above to solve the new dynamic program? "
   ]
  },
  {
   "cell_type": "code",
   "execution_count": null,
   "id": "b8cd762f-04c9-4c59-89b4-7a36012d77dd",
   "metadata": {},
   "outputs": [],
   "source": []
  },
  {
   "cell_type": "markdown",
   "id": "e22c1fb3-fbf9-4c4e-ae18-be87326d7bfc",
   "metadata": {},
   "source": [
    "---"
   ]
  },
  {
   "cell_type": "markdown",
   "id": "16d00335-d9d4-489f-be54-e96e7951f92f",
   "metadata": {},
   "source": [
    "## Problems"
   ]
  },
  {
   "cell_type": "markdown",
   "id": "8ab3e837-1eec-4960-a757-d948cc8b8174",
   "metadata": {},
   "source": [
    "### Problem 1 (Solving the airlift planning problem)"
   ]
  },
  {
   "cell_type": "markdown",
   "id": "2bae9ed8-fd6e-4fed-87cb-2c05b5e8fd60",
   "metadata": {},
   "source": [
    "Solve the dynamic program we formulated in Example 1 of Lesson 8 using Python. What is the maximum possible total capability value? Which requirements should be put on the plane to achieve this maximum total capability value?"
   ]
  },
  {
   "cell_type": "code",
   "execution_count": null,
   "id": "a35c4a29-095e-4f35-8add-23a20db7d19b",
   "metadata": {},
   "outputs": [],
   "source": []
  },
  {
   "cell_type": "markdown",
   "id": "c2a87be1-24db-4172-b48e-ae50cd472d3f",
   "metadata": {},
   "source": [
    "_Write your notes here. Double-click to edit._"
   ]
  }
 ],
 "metadata": {
  "kernelspec": {
   "display_name": "Python 3 (ipykernel)",
   "language": "python",
   "name": "python3"
  },
  "language_info": {
   "codemirror_mode": {
    "name": "ipython",
    "version": 3
   },
   "file_extension": ".py",
   "mimetype": "text/x-python",
   "name": "python",
   "nbconvert_exporter": "python",
   "pygments_lexer": "ipython3",
   "version": "3.8.10"
  }
 },
 "nbformat": 4,
 "nbformat_minor": 5
}
